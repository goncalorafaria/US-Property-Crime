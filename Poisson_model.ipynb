{
 "cells": [
  {
   "cell_type": "code",
   "execution_count": 1,
   "metadata": {},
   "outputs": [],
   "source": [
    "\"\"\"\n",
    "# Header ------------------------------------------------------------------\n",
    "\"\"\"\n",
    "import pyjags\n",
    "import numpy as np\n",
    "import matplotlib.pyplot as plt\n",
    "import pandas as pd\n",
    "from sklearn.preprocessing import OneHotEncoder\n",
    "from core import *\n",
    "from model import build\n",
    "from scipy.stats import poisson\n",
    "np.set_printoptions(precision=10)"
   ]
  },
  {
   "cell_type": "markdown",
   "metadata": {},
   "source": [
    "## Serius"
   ]
  },
  {
   "cell_type": "code",
   "execution_count": 2,
   "metadata": {},
   "outputs": [],
   "source": [
    "# data ----------------------------------------------------------\n",
    "\n",
    "np.random.seed(123)\n",
    "\n",
    "df = pd.read_csv(\"experiment1.csv\")"
   ]
  },
  {
   "cell_type": "code",
   "execution_count": 3,
   "metadata": {},
   "outputs": [],
   "source": [
    "models=build()"
   ]
  },
  {
   "cell_type": "code",
   "execution_count": 7,
   "metadata": {},
   "outputs": [],
   "source": [
    "T = np.unique(df[\"Year\"]).shape[0]\n",
    "\n",
    "d15n=df.loc[ df[\"Year\"]== 2015, [\"Population\"] ].values\n",
    "d16n=df.loc[ df[\"Year\"]== 2016, [\"Population\"] ].values\n",
    "\n",
    "d15y=df.loc[ df[\"Year\"]== 2015, [\"Property crime\"] ].values\n",
    "d16y=df.loc[ df[\"Year\"]== 2016, [\"Property crime\"] ].values\n",
    "\n",
    "n=np.array([d15n, d16n]).squeeze(-1).T\n",
    "y=np.array([d15y, d16y]).squeeze(-1).T\n",
    "\n",
    "df[\"Regions\"] = pd.Categorical(df[\"Regions\"])\n",
    "df[\"Year\"] = pd.Categorical(df[\"Year\"])\n",
    "\n",
    "region = df[\"Regions\"].cat.codes.values.reshape(-1)\n",
    "year = df[\"Year\"].cat.codes.values.reshape(-1)\n",
    "\n",
    "nregions = np.unique(region).shape[0]\n",
    "nstates = n.shape[0]"
   ]
  },
  {
   "cell_type": "code",
   "execution_count": 5,
   "metadata": {},
   "outputs": [],
   "source": [
    "def eplot(model, y, n, it = 10000, chains=4,sslice =1000):\n",
    "    samples = sample(model[0], model[2], varnames=model[1], chains=chains, trials=it)\n",
    "    \n",
    "        \n",
    "    y_pred = np.mean( samples['y_pred'][:,:,-sslice:,:], axis=(-1,-2) )\n",
    "    theta_mean = np.mean( samples['theta'][:,:,-sslice:,:], axis=(-1,-2) )\n",
    "    theta_median = np.median( samples['theta'][:,:,-sslice:,:], axis=(-1,-2) )\n",
    "    \n",
    "    \n",
    "    loglikl_mean = np.sum(poisson.logpmf(y.ravel(),n.ravel() * theta_mean.ravel()))\n",
    "    loglikl_median = np.sum(poisson.logpmf(y.ravel(),n.ravel() * theta_median.ravel()))\n",
    "    \n",
    "    \n",
    "    y_predmean = n.ravel() * theta_mean.ravel()\n",
    "    mse_mean = np.sum(((y.ravel()-y_predmean)/y.ravel())**2) \n",
    "    \n",
    "    y_predmd = n.ravel() * theta_median.ravel()\n",
    "    mse_md = np.sum(((y.ravel()-y_predmd)/y.ravel())**2) \n",
    "    \n",
    "    aic_mean = 2* model[3] - 2 * loglikl_mean\n",
    "    aic_md = 2* model[3] - 2 * loglikl_median\n",
    "    sic_mean = 2* np.log(len(y.ravel()))*model[3] - 2 * loglikl_mean\n",
    "    sic_md = 2* np.log(len(y.ravel()))*model[3] - 2 * loglikl_median\n",
    "    \n",
    "    print(\"######################\")\n",
    "    \n",
    "    print(\"### mean: ---\")\n",
    "    print(\"Log likelihood: \" + str(loglikl_mean)) \n",
    "    print(\"aic: \"+ str(aic_mean))\n",
    "    print(\"sic: \"+ str(sic_mean))\n",
    "    print(\"chi-square : \" + str(mse_mean))\n",
    "    \n",
    "    print(\"### median: ---\")\n",
    "    print(\"Log likelihood: \" + str(loglikl_median))\n",
    "    print(\"aic: \"+ str(aic_md))\n",
    "    print(\"sic: \"+ str(sic_md))\n",
    "    print(\"chi-square : \" + str(mse_md))\n",
    "    \n",
    "    print(\"######################\")\n",
    "    #analyse_fit(model[1],model[0])\n",
    "    \n",
    "    plot_predictive(\n",
    "        n.ravel(),\n",
    "        y.ravel(), \n",
    "        y_pred.ravel())\n",
    "    #plt.scater()\n",
    "    plt.show()"
   ]
  },
  {
   "cell_type": "markdown",
   "metadata": {},
   "source": [
    "# notation\n",
    "\n",
    "## nation, region, state, time\n",
    "### time - i - ar1 lin, q - ar1 quad, s - stationary \n",
    "### region, state, natio - i - independent, f - fixed effect, c - car effect, s - sar effect"
   ]
  },
  {
   "cell_type": "code",
   "execution_count": 8,
   "metadata": {
    "scrolled": true
   },
   "outputs": [
    {
     "name": "stdout",
     "output_type": "stream",
     "text": [
      "adapting: iterations 4000 of 4000, elapsed 0:00:03, remaining 0:00:00\n",
      "sampling: iterations 10820 of 40000, elapsed 0:00:07, remaining 0:00:20\n",
      "sampling: iterations 25340 of 40000, elapsed 0:00:17, remaining 0:00:10\n",
      "sampling: iterations 39988 of 40000, elapsed 0:00:28, remaining 0:00:00\n",
      "sampling: iterations 40000 of 40000, elapsed 0:00:28, remaining 0:00:00\n",
      "######################\n",
      "### mean: ---\n",
      "Log likelihood: -1242.1058859480818\n",
      "aic: 2624.2117718961636\n",
      "sic: 3134.426497775956\n",
      "chi-square : 0.025953646876006063\n",
      "### median: ---\n",
      "Log likelihood: -1231.6137176997781\n",
      "aic: 2603.2274353995563\n",
      "sic: 3113.4421612793485\n",
      "chi-square : 0.02567137246327859\n",
      "######################\n",
      "chi-square : 0.025936618020765103\n"
     ]
    },
    {
     "data": {
      "image/png": "[encoded data removed]",
      "text/plain": [
       "<Figure size 432x288 with 1 Axes>"
      ]
     },
     "metadata": {
      "needs_background": "light"
     },
     "output_type": "display_data"
    }
   ],
   "source": [
    "eplot(models[\"fcfq\"], y = y, n=n, it=10000, sslice=4000)"
   ]
  },
  {
   "cell_type": "code",
   "execution_count": null,
   "metadata": {},
   "outputs": [],
   "source": []
  },
  {
   "cell_type": "code",
   "execution_count": null,
   "metadata": {},
   "outputs": [],
   "source": []
  }
 ],
 "metadata": {
  "kernelspec": {
   "display_name": "Python 3",
   "language": "python",
   "name": "python3"
  },
  "language_info": {
   "codemirror_mode": {
    "name": "ipython",
    "version": 3
   },
   "file_extension": ".py",
   "mimetype": "text/x-python",
   "name": "python",
   "nbconvert_exporter": "python",
   "pygments_lexer": "ipython3",
   "version": "3.7.0"
  }
 },
 "nbformat": 4,
 "nbformat_minor": 2
}
