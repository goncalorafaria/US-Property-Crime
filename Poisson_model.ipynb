{
 "cells": [
  {
   "cell_type": "code",
   "execution_count": 1,
   "metadata": {},
   "outputs": [],
   "source": [
    "\"\"\"\n",
    "# Header ------------------------------------------------------------------\n",
    "\"\"\"\n",
    "import pyjags\n",
    "import numpy as np\n",
    "import matplotlib.pyplot as plt\n",
    "import pandas as pd\n",
    "from sklearn.preprocessing import OneHotEncoder\n",
    "from core import *\n",
    "from model import build\n",
    "from scipy.stats import poisson\n",
    "np.set_printoptions(precision=10)"
   ]
  },
  {
   "cell_type": "markdown",
   "metadata": {},
   "source": [
    "## Serius"
   ]
  },
  {
   "cell_type": "code",
   "execution_count": 2,
   "metadata": {},
   "outputs": [],
   "source": [
    "# data ----------------------------------------------------------\n",
    "\n",
    "np.random.seed(123)\n",
    "\n",
    "df = pd.read_csv(\"experiment1.csv\")"
   ]
  },
  {
   "cell_type": "code",
   "execution_count": 3,
   "metadata": {},
   "outputs": [],
   "source": [
    "models=build()"
   ]
  },
  {
   "cell_type": "code",
   "execution_count": 4,
   "metadata": {},
   "outputs": [],
   "source": [
    "T = np.unique(df[\"Year\"]).shape[0]\n",
    "\n",
    "d15n=df.loc[ df[\"Year\"]== 2015, [\"Population\"] ].values\n",
    "d16n=df.loc[ df[\"Year\"]== 2016, [\"Population\"] ].values\n",
    "\n",
    "d15y=df.loc[ df[\"Year\"]== 2015, [\"Property crime\"] ].values\n",
    "d16y=df.loc[ df[\"Year\"]== 2016, [\"Property crime\"] ].values\n",
    "\n",
    "n=np.array([d15n, d16n]).squeeze(-1).T\n",
    "y=np.array([d15y, d16y]).squeeze(-1).T\n",
    "\n",
    "df[\"Regions\"] = pd.Categorical(df[\"Regions\"])\n",
    "df[\"Year\"] = pd.Categorical(df[\"Year\"])\n",
    "\n",
    "region = df[\"Regions\"].cat.codes.values.reshape(-1)\n",
    "year = df[\"Year\"].cat.codes.values.reshape(-1)\n",
    "\n",
    "nregions = np.unique(region).shape[0]\n",
    "nstates = n.shape[0]"
   ]
  },
  {
   "cell_type": "code",
   "execution_count": 5,
   "metadata": {},
   "outputs": [],
   "source": [
    "def eplot(model, y, n, it = 10000, chains=4,sslice =1000, debug = False):\n",
    "    samples = sample(model[0], model[2], varnames=model[1], chains=chains, trials=it)\n",
    "    \n",
    "    #if debug:\n",
    "    #    plt.hist([np.array(samples['y_pred'][:,:,-sslice,:].ravel()), \n",
    "    #    np.array(y.ravel())],bins=10,histtype='bar',density=True,label=(\"predicted\",\"true\"))\n",
    "\n",
    "    #    plt.legend(loc=\"upper right\")\n",
    "    #    plt.show()\n",
    "        \n",
    "    y_pred = np.mean( samples['y_pred'][:,:,-sslice:,:], axis=(-1,-2) )\n",
    "    theta_mean = np.mean( samples['theta'][:,:,-sslice:,:], axis=(-1,-2) )\n",
    "    theta_median = np.median( samples['theta'][:,:,-sslice:,:], axis=(-1,-2) )\n",
    "    loglikl = np.mean(\n",
    "        samples['log.lik'][:,-sslice:,:]\n",
    "        .ravel()\n",
    "    )\n",
    "    \n",
    "    loglikl_mean = loglikl_median = loglikl\n",
    "    \n",
    "    y_predmean = n.ravel() * theta_mean.ravel()\n",
    "    mse_mean = np.sum(((y.ravel()-y_predmean)/y.ravel())**2) \n",
    "    \n",
    "    y_predmd = n.ravel() * theta_median.ravel()\n",
    "    mse_md = np.sum(((y.ravel()-y_predmd)/y.ravel())**2) \n",
    "    \n",
    "    aic_mean = 2* model[3] - 2 * loglikl_mean\n",
    "    aic_md = 2* model[3] - 2 * loglikl_median\n",
    "    sic_mean = 2* np.log(len(y.ravel()))*model[3] - 2 * loglikl_mean\n",
    "    sic_md = 2* np.log(len(y.ravel()))*model[3] - 2 * loglikl_median\n",
    "    \n",
    "    print(\"######################\")\n",
    "    \n",
    "    print(\"### mean: ---\")\n",
    "    print(\"Log likelihood: \" + str(loglikl_mean)) \n",
    "    print(\"aic: \"+ str(aic_mean))\n",
    "    print(\"sic: \"+ str(sic_mean))\n",
    "    print(\"chi-square : \" + str(mse_mean))\n",
    "    \n",
    "    print(\"### median: ---\")\n",
    "    print(\"Log likelihood: \" + str(loglikl_median))\n",
    "    print(\"aic: \"+ str(aic_md))\n",
    "    print(\"sic: \"+ str(sic_md))\n",
    "    print(\"chi-square : \" + str(mse_md))\n",
    "    \n",
    "    print(\"### sampled: ---\")\n",
    "    print(\"mse: \" + str(np.sum(((y.ravel()-y_pred.ravel())/y.ravel())**2) ) )\n",
    "    \n",
    "    print(\"######################\")\n",
    "    if debug:\n",
    "        analyse_fit(model[1],samples)\n",
    "    \n",
    "    plot_predictive(\n",
    "        n.ravel(),\n",
    "        y.ravel(), \n",
    "        y_pred.ravel())\n",
    "    \n",
    "    eps = np.mean( ( y - y_pred) ** 2 / y ) \n",
    "    print(eps)\n",
    "    \n",
    "    plt.show()"
   ]
  },
  {
   "cell_type": "markdown",
   "metadata": {},
   "source": [
    "#### Results\n",
    "\n",
    "fiss - 33.88\n",
    "\n",
    "fics - 45.816\n",
    "\n",
    "fccs - 52.57\n",
    "\n",
    "fisl - 113\n",
    "\n",
    "fcfl - 7.12\n",
    "\n",
    "fffl - 7.13\n",
    "\n",
    "fcfq - 7.10\n",
    "\n",
    "fcfs - 29.23\n",
    "\n",
    "fsis - 1976\n",
    "\n",
    "fcis - 1976\n",
    "\n",
    "ffis - 1976\n",
    "\n",
    "fiis - 4106\n",
    "\n"
   ]
  },
  {
   "cell_type": "markdown",
   "metadata": {},
   "source": [
    "# notation\n",
    "\n",
    "## nation, region, state, time\n",
    "### time - i - ar1 lin, q - ar1 quad, s - stationary \n",
    "### region, state, natio - i - independent, f - fixed effect, c - car effect, s - sar effect"
   ]
  },
  {
   "cell_type": "code",
   "execution_count": 8,
   "metadata": {
    "scrolled": true
   },
   "outputs": [
    {
     "name": "stdout",
     "output_type": "stream",
     "text": [
      "adapting: iterations 4000 of 4000, elapsed 0:00:01, remaining 0:00:00\n",
      "sampling: iterations 8336 of 120000, elapsed 0:00:08, remaining 0:01:48\n"
     ]
    },
    {
     "ename": "KeyboardInterrupt",
     "evalue": "",
     "output_type": "error",
     "traceback": [
      "\u001b[0;31m---------------------------------------------------------------------------\u001b[0m",
      "\u001b[0;31mKeyboardInterrupt\u001b[0m                         Traceback (most recent call last)",
      "\u001b[0;32m<ipython-input-8-3a2f736c3af7>\u001b[0m in \u001b[0;36m<module>\u001b[0;34m\u001b[0m\n\u001b[0;32m----> 1\u001b[0;31m \u001b[0meplot\u001b[0m\u001b[0;34m(\u001b[0m\u001b[0mmodels\u001b[0m\u001b[0;34m[\u001b[0m\u001b[0;34m\"fcfs\"\u001b[0m\u001b[0;34m]\u001b[0m\u001b[0;34m,\u001b[0m \u001b[0my\u001b[0m \u001b[0;34m=\u001b[0m \u001b[0my\u001b[0m\u001b[0;34m,\u001b[0m \u001b[0mn\u001b[0m\u001b[0;34m=\u001b[0m\u001b[0mn\u001b[0m\u001b[0;34m,\u001b[0m \u001b[0mit\u001b[0m\u001b[0;34m=\u001b[0m\u001b[0;36m30000\u001b[0m\u001b[0;34m,\u001b[0m \u001b[0msslice\u001b[0m\u001b[0;34m=\u001b[0m\u001b[0;36m4000\u001b[0m\u001b[0;34m,\u001b[0m \u001b[0mdebug\u001b[0m\u001b[0;34m=\u001b[0m\u001b[0;32mTrue\u001b[0m\u001b[0;34m)\u001b[0m\u001b[0;34m\u001b[0m\u001b[0m\n\u001b[0m",
      "\u001b[0;32m<ipython-input-5-859f35930ad0>\u001b[0m in \u001b[0;36meplot\u001b[0;34m(model, y, n, it, chains, sslice, debug)\u001b[0m\n\u001b[1;32m      1\u001b[0m \u001b[0;32mdef\u001b[0m \u001b[0meplot\u001b[0m\u001b[0;34m(\u001b[0m\u001b[0mmodel\u001b[0m\u001b[0;34m,\u001b[0m \u001b[0my\u001b[0m\u001b[0;34m,\u001b[0m \u001b[0mn\u001b[0m\u001b[0;34m,\u001b[0m \u001b[0mit\u001b[0m \u001b[0;34m=\u001b[0m \u001b[0;36m10000\u001b[0m\u001b[0;34m,\u001b[0m \u001b[0mchains\u001b[0m\u001b[0;34m=\u001b[0m\u001b[0;36m4\u001b[0m\u001b[0;34m,\u001b[0m\u001b[0msslice\u001b[0m \u001b[0;34m=\u001b[0m\u001b[0;36m1000\u001b[0m\u001b[0;34m,\u001b[0m \u001b[0mdebug\u001b[0m \u001b[0;34m=\u001b[0m \u001b[0;32mFalse\u001b[0m\u001b[0;34m)\u001b[0m\u001b[0;34m:\u001b[0m\u001b[0;34m\u001b[0m\u001b[0m\n\u001b[0;32m----> 2\u001b[0;31m     \u001b[0msamples\u001b[0m \u001b[0;34m=\u001b[0m \u001b[0msample\u001b[0m\u001b[0;34m(\u001b[0m\u001b[0mmodel\u001b[0m\u001b[0;34m[\u001b[0m\u001b[0;36m0\u001b[0m\u001b[0;34m]\u001b[0m\u001b[0;34m,\u001b[0m \u001b[0mmodel\u001b[0m\u001b[0;34m[\u001b[0m\u001b[0;36m2\u001b[0m\u001b[0;34m]\u001b[0m\u001b[0;34m,\u001b[0m \u001b[0mvarnames\u001b[0m\u001b[0;34m=\u001b[0m\u001b[0mmodel\u001b[0m\u001b[0;34m[\u001b[0m\u001b[0;36m1\u001b[0m\u001b[0;34m]\u001b[0m\u001b[0;34m,\u001b[0m \u001b[0mchains\u001b[0m\u001b[0;34m=\u001b[0m\u001b[0mchains\u001b[0m\u001b[0;34m,\u001b[0m \u001b[0mtrials\u001b[0m\u001b[0;34m=\u001b[0m\u001b[0mit\u001b[0m\u001b[0;34m)\u001b[0m\u001b[0;34m\u001b[0m\u001b[0m\n\u001b[0m\u001b[1;32m      3\u001b[0m \u001b[0;34m\u001b[0m\u001b[0m\n\u001b[1;32m      4\u001b[0m     \u001b[0;31m#if debug:\u001b[0m\u001b[0;34m\u001b[0m\u001b[0;34m\u001b[0m\u001b[0m\n\u001b[1;32m      5\u001b[0m     \u001b[0;31m#    plt.hist([np.array(samples['y_pred'][:,:,-sslice,:].ravel()),\u001b[0m\u001b[0;34m\u001b[0m\u001b[0;34m\u001b[0m\u001b[0m\n",
      "\u001b[0;32m~/Documents/Processo Educativo/IST Mestrado Engenharia e Ciência de Dados/Estatística Computacional/project/core.py\u001b[0m in \u001b[0;36msample\u001b[0;34m(code, bvars, varnames, chains, trials)\u001b[0m\n\u001b[1;32m     17\u001b[0m     \u001b[0mmodel\u001b[0m \u001b[0;34m=\u001b[0m \u001b[0mpyjags\u001b[0m\u001b[0;34m.\u001b[0m\u001b[0mModel\u001b[0m\u001b[0;34m(\u001b[0m\u001b[0mcode\u001b[0m\u001b[0;34m,\u001b[0m \u001b[0mdata\u001b[0m\u001b[0;34m=\u001b[0m\u001b[0mbvars\u001b[0m\u001b[0;34m,\u001b[0m \u001b[0mchains\u001b[0m\u001b[0;34m=\u001b[0m\u001b[0;36m4\u001b[0m\u001b[0;34m)\u001b[0m \u001b[0;31m# Chains = Number of different starting positions\u001b[0m\u001b[0;34m\u001b[0m\u001b[0m\n\u001b[1;32m     18\u001b[0m     \u001b[0;31m# Choose the parameters to watch and iterations:\u001b[0m\u001b[0;34m\u001b[0m\u001b[0;34m\u001b[0m\u001b[0m\n\u001b[0;32m---> 19\u001b[0;31m     \u001b[0msamples\u001b[0m \u001b[0;34m=\u001b[0m \u001b[0mmodel\u001b[0m\u001b[0;34m.\u001b[0m\u001b[0msample\u001b[0m\u001b[0;34m(\u001b[0m\u001b[0mtrials\u001b[0m\u001b[0;34m,\u001b[0m \u001b[0mvars\u001b[0m\u001b[0;34m=\u001b[0m\u001b[0mvarnames\u001b[0m\u001b[0;34m)\u001b[0m\u001b[0;34m\u001b[0m\u001b[0m\n\u001b[0m\u001b[1;32m     20\u001b[0m \u001b[0;34m\u001b[0m\u001b[0m\n\u001b[1;32m     21\u001b[0m     \u001b[0;32mreturn\u001b[0m \u001b[0msamples\u001b[0m\u001b[0;34m\u001b[0m\u001b[0m\n",
      "\u001b[0;32m/Library/Frameworks/Python.framework/Versions/3.7/lib/python3.7/site-packages/pyjags/model.py\u001b[0m in \u001b[0;36msample\u001b[0;34m(self, iterations, vars, thin, monitor_type)\u001b[0m\n\u001b[1;32m    406\u001b[0m                 \u001b[0mself\u001b[0m\u001b[0;34m.\u001b[0m\u001b[0mconsole\u001b[0m\u001b[0;34m.\u001b[0m\u001b[0msetMonitor\u001b[0m\u001b[0;34m(\u001b[0m\u001b[0mname\u001b[0m\u001b[0;34m,\u001b[0m \u001b[0mthin\u001b[0m\u001b[0;34m,\u001b[0m \u001b[0mmonitor_type\u001b[0m\u001b[0;34m)\u001b[0m\u001b[0;34m\u001b[0m\u001b[0m\n\u001b[1;32m    407\u001b[0m                 \u001b[0mmonitored\u001b[0m\u001b[0;34m.\u001b[0m\u001b[0mappend\u001b[0m\u001b[0;34m(\u001b[0m\u001b[0mname\u001b[0m\u001b[0;34m)\u001b[0m\u001b[0;34m\u001b[0m\u001b[0m\n\u001b[0;32m--> 408\u001b[0;31m             \u001b[0mself\u001b[0m\u001b[0;34m.\u001b[0m\u001b[0m_update\u001b[0m\u001b[0;34m(\u001b[0m\u001b[0miterations\u001b[0m\u001b[0;34m,\u001b[0m \u001b[0;34m'sampling: '\u001b[0m\u001b[0;34m)\u001b[0m\u001b[0;34m\u001b[0m\u001b[0m\n\u001b[0m\u001b[1;32m    409\u001b[0m             \u001b[0msamples\u001b[0m \u001b[0;34m=\u001b[0m \u001b[0mself\u001b[0m\u001b[0;34m.\u001b[0m\u001b[0mconsole\u001b[0m\u001b[0;34m.\u001b[0m\u001b[0mdumpMonitors\u001b[0m\u001b[0;34m(\u001b[0m\u001b[0mmonitor_type\u001b[0m\u001b[0;34m,\u001b[0m \u001b[0;32mFalse\u001b[0m\u001b[0;34m)\u001b[0m\u001b[0;34m\u001b[0m\u001b[0m\n\u001b[1;32m    410\u001b[0m             \u001b[0msamples\u001b[0m \u001b[0;34m=\u001b[0m \u001b[0mdict_from_jags\u001b[0m\u001b[0;34m(\u001b[0m\u001b[0msamples\u001b[0m\u001b[0;34m)\u001b[0m\u001b[0;34m\u001b[0m\u001b[0m\n",
      "\u001b[0;32m/Library/Frameworks/Python.framework/Versions/3.7/lib/python3.7/site-packages/pyjags/model.py\u001b[0m in \u001b[0;36m_update\u001b[0;34m(self, iterations, header)\u001b[0m\n\u001b[1;32m    338\u001b[0m \u001b[0;34m\u001b[0m\u001b[0m\n\u001b[1;32m    339\u001b[0m         \u001b[0;32mwith\u001b[0m \u001b[0mself\u001b[0m\u001b[0;34m.\u001b[0m\u001b[0mprogress_bar\u001b[0m\u001b[0;34m(\u001b[0m\u001b[0mself\u001b[0m\u001b[0;34m.\u001b[0m\u001b[0mchains\u001b[0m \u001b[0;34m*\u001b[0m \u001b[0miterations\u001b[0m\u001b[0;34m,\u001b[0m \u001b[0mheader\u001b[0m\u001b[0;34m=\u001b[0m\u001b[0mheader\u001b[0m\u001b[0;34m)\u001b[0m \u001b[0;32mas\u001b[0m \u001b[0mpb\u001b[0m\u001b[0;34m:\u001b[0m\u001b[0;34m\u001b[0m\u001b[0m\n\u001b[0;32m--> 340\u001b[0;31m             \u001b[0mmethod\u001b[0m\u001b[0;34m(\u001b[0m\u001b[0mpb\u001b[0m\u001b[0;34m,\u001b[0m \u001b[0miterations\u001b[0m\u001b[0;34m)\u001b[0m\u001b[0;34m\u001b[0m\u001b[0m\n\u001b[0m\u001b[1;32m    341\u001b[0m \u001b[0;34m\u001b[0m\u001b[0m\n\u001b[1;32m    342\u001b[0m     \u001b[0;32mdef\u001b[0m \u001b[0m_update_sequential\u001b[0m\u001b[0;34m(\u001b[0m\u001b[0mself\u001b[0m\u001b[0;34m,\u001b[0m \u001b[0mprogress\u001b[0m\u001b[0;34m,\u001b[0m \u001b[0miterations\u001b[0m\u001b[0;34m)\u001b[0m\u001b[0;34m:\u001b[0m\u001b[0;34m\u001b[0m\u001b[0m\n",
      "\u001b[0;32m/Library/Frameworks/Python.framework/Versions/3.7/lib/python3.7/site-packages/pyjags/model.py\u001b[0m in \u001b[0;36m_update_sequential\u001b[0;34m(self, progress, iterations)\u001b[0m\n\u001b[1;32m    342\u001b[0m     \u001b[0;32mdef\u001b[0m \u001b[0m_update_sequential\u001b[0m\u001b[0;34m(\u001b[0m\u001b[0mself\u001b[0m\u001b[0;34m,\u001b[0m \u001b[0mprogress\u001b[0m\u001b[0;34m,\u001b[0m \u001b[0miterations\u001b[0m\u001b[0;34m)\u001b[0m\u001b[0;34m:\u001b[0m\u001b[0;34m\u001b[0m\u001b[0m\n\u001b[1;32m    343\u001b[0m         \u001b[0;32mfor\u001b[0m \u001b[0msteps\u001b[0m \u001b[0;32min\u001b[0m \u001b[0mconst_time_partition\u001b[0m\u001b[0;34m(\u001b[0m\u001b[0miterations\u001b[0m\u001b[0;34m,\u001b[0m \u001b[0mself\u001b[0m\u001b[0;34m.\u001b[0m\u001b[0mrefresh_seconds\u001b[0m\u001b[0;34m)\u001b[0m\u001b[0;34m:\u001b[0m\u001b[0;34m\u001b[0m\u001b[0m\n\u001b[0;32m--> 344\u001b[0;31m             \u001b[0mself\u001b[0m\u001b[0;34m.\u001b[0m\u001b[0mconsole\u001b[0m\u001b[0;34m.\u001b[0m\u001b[0mupdate\u001b[0m\u001b[0;34m(\u001b[0m\u001b[0msteps\u001b[0m\u001b[0;34m)\u001b[0m\u001b[0;34m\u001b[0m\u001b[0m\n\u001b[0m\u001b[1;32m    345\u001b[0m             \u001b[0mprogress\u001b[0m\u001b[0;34m.\u001b[0m\u001b[0mupdate\u001b[0m\u001b[0;34m(\u001b[0m\u001b[0mself\u001b[0m\u001b[0;34m.\u001b[0m\u001b[0mchains\u001b[0m \u001b[0;34m*\u001b[0m \u001b[0msteps\u001b[0m\u001b[0;34m)\u001b[0m\u001b[0;34m\u001b[0m\u001b[0m\n\u001b[1;32m    346\u001b[0m \u001b[0;34m\u001b[0m\u001b[0m\n",
      "\u001b[0;31mKeyboardInterrupt\u001b[0m: "
     ]
    }
   ],
   "source": [
    "eplot(models[\"fcfq\"], y = y, n=n, it=30000, sslice=4000, debug=True)"
   ]
  },
  {
   "cell_type": "code",
   "execution_count": 13,
   "metadata": {
    "scrolled": true
   },
   "outputs": [
    {
     "name": "stdout",
     "output_type": "stream",
     "text": [
      "adapting: iterations 4 of 4000, elapsed 0:00:07, remaining 1:54:25\n"
     ]
    },
    {
     "ename": "KeyboardInterrupt",
     "evalue": "",
     "output_type": "error",
     "traceback": [
      "\u001b[0;31m---------------------------------------------------------------------------\u001b[0m",
      "\u001b[0;31mKeyboardInterrupt\u001b[0m                         Traceback (most recent call last)",
      "\u001b[0;32m<ipython-input-13-c99089d1af2a>\u001b[0m in \u001b[0;36m<module>\u001b[0;34m\u001b[0m\n\u001b[0;32m----> 1\u001b[0;31m \u001b[0meplot\u001b[0m\u001b[0;34m(\u001b[0m\u001b[0mmodels\u001b[0m\u001b[0;34m[\u001b[0m\u001b[0;34m\"fiss\"\u001b[0m\u001b[0;34m]\u001b[0m\u001b[0;34m,\u001b[0m \u001b[0my\u001b[0m \u001b[0;34m=\u001b[0m \u001b[0my\u001b[0m\u001b[0;34m,\u001b[0m \u001b[0mn\u001b[0m\u001b[0;34m=\u001b[0m\u001b[0mn\u001b[0m\u001b[0;34m,\u001b[0m \u001b[0mit\u001b[0m\u001b[0;34m=\u001b[0m\u001b[0;36m60000\u001b[0m\u001b[0;34m,\u001b[0m \u001b[0msslice\u001b[0m\u001b[0;34m=\u001b[0m\u001b[0;36m4000\u001b[0m\u001b[0;34m,\u001b[0m \u001b[0mdebug\u001b[0m\u001b[0;34m=\u001b[0m\u001b[0;32mTrue\u001b[0m\u001b[0;34m)\u001b[0m\u001b[0;34m\u001b[0m\u001b[0m\n\u001b[0m",
      "\u001b[0;32m<ipython-input-7-859f35930ad0>\u001b[0m in \u001b[0;36meplot\u001b[0;34m(model, y, n, it, chains, sslice, debug)\u001b[0m\n\u001b[1;32m      1\u001b[0m \u001b[0;32mdef\u001b[0m \u001b[0meplot\u001b[0m\u001b[0;34m(\u001b[0m\u001b[0mmodel\u001b[0m\u001b[0;34m,\u001b[0m \u001b[0my\u001b[0m\u001b[0;34m,\u001b[0m \u001b[0mn\u001b[0m\u001b[0;34m,\u001b[0m \u001b[0mit\u001b[0m \u001b[0;34m=\u001b[0m \u001b[0;36m10000\u001b[0m\u001b[0;34m,\u001b[0m \u001b[0mchains\u001b[0m\u001b[0;34m=\u001b[0m\u001b[0;36m4\u001b[0m\u001b[0;34m,\u001b[0m\u001b[0msslice\u001b[0m \u001b[0;34m=\u001b[0m\u001b[0;36m1000\u001b[0m\u001b[0;34m,\u001b[0m \u001b[0mdebug\u001b[0m \u001b[0;34m=\u001b[0m \u001b[0;32mFalse\u001b[0m\u001b[0;34m)\u001b[0m\u001b[0;34m:\u001b[0m\u001b[0;34m\u001b[0m\u001b[0m\n\u001b[0;32m----> 2\u001b[0;31m     \u001b[0msamples\u001b[0m \u001b[0;34m=\u001b[0m \u001b[0msample\u001b[0m\u001b[0;34m(\u001b[0m\u001b[0mmodel\u001b[0m\u001b[0;34m[\u001b[0m\u001b[0;36m0\u001b[0m\u001b[0;34m]\u001b[0m\u001b[0;34m,\u001b[0m \u001b[0mmodel\u001b[0m\u001b[0;34m[\u001b[0m\u001b[0;36m2\u001b[0m\u001b[0;34m]\u001b[0m\u001b[0;34m,\u001b[0m \u001b[0mvarnames\u001b[0m\u001b[0;34m=\u001b[0m\u001b[0mmodel\u001b[0m\u001b[0;34m[\u001b[0m\u001b[0;36m1\u001b[0m\u001b[0;34m]\u001b[0m\u001b[0;34m,\u001b[0m \u001b[0mchains\u001b[0m\u001b[0;34m=\u001b[0m\u001b[0mchains\u001b[0m\u001b[0;34m,\u001b[0m \u001b[0mtrials\u001b[0m\u001b[0;34m=\u001b[0m\u001b[0mit\u001b[0m\u001b[0;34m)\u001b[0m\u001b[0;34m\u001b[0m\u001b[0m\n\u001b[0m\u001b[1;32m      3\u001b[0m \u001b[0;34m\u001b[0m\u001b[0m\n\u001b[1;32m      4\u001b[0m     \u001b[0;31m#if debug:\u001b[0m\u001b[0;34m\u001b[0m\u001b[0;34m\u001b[0m\u001b[0m\n\u001b[1;32m      5\u001b[0m     \u001b[0;31m#    plt.hist([np.array(samples['y_pred'][:,:,-sslice,:].ravel()),\u001b[0m\u001b[0;34m\u001b[0m\u001b[0;34m\u001b[0m\u001b[0m\n",
      "\u001b[0;32m~/Documents/Processo Educativo/IST Mestrado Engenharia e Ciência de Dados/Estatística Computacional/project/core.py\u001b[0m in \u001b[0;36msample\u001b[0;34m(code, bvars, varnames, chains, trials)\u001b[0m\n\u001b[1;32m     15\u001b[0m \u001b[0;32mdef\u001b[0m \u001b[0msample\u001b[0m\u001b[0;34m(\u001b[0m\u001b[0mcode\u001b[0m\u001b[0;34m,\u001b[0m \u001b[0mbvars\u001b[0m \u001b[0;34m,\u001b[0m\u001b[0mvarnames\u001b[0m\u001b[0;34m,\u001b[0m\u001b[0mchains\u001b[0m\u001b[0;34m=\u001b[0m\u001b[0;36m4\u001b[0m\u001b[0;34m,\u001b[0m\u001b[0mtrials\u001b[0m\u001b[0;34m=\u001b[0m\u001b[0;36m10000\u001b[0m\u001b[0;34m)\u001b[0m\u001b[0;34m:\u001b[0m\u001b[0;34m\u001b[0m\u001b[0m\n\u001b[1;32m     16\u001b[0m     \u001b[0;31m# Set up the data:\u001b[0m\u001b[0;34m\u001b[0m\u001b[0;34m\u001b[0m\u001b[0m\n\u001b[0;32m---> 17\u001b[0;31m     \u001b[0mmodel\u001b[0m \u001b[0;34m=\u001b[0m \u001b[0mpyjags\u001b[0m\u001b[0;34m.\u001b[0m\u001b[0mModel\u001b[0m\u001b[0;34m(\u001b[0m\u001b[0mcode\u001b[0m\u001b[0;34m,\u001b[0m \u001b[0mdata\u001b[0m\u001b[0;34m=\u001b[0m\u001b[0mbvars\u001b[0m\u001b[0;34m,\u001b[0m \u001b[0mchains\u001b[0m\u001b[0;34m=\u001b[0m\u001b[0;36m4\u001b[0m\u001b[0;34m)\u001b[0m \u001b[0;31m# Chains = Number of different starting positions\u001b[0m\u001b[0;34m\u001b[0m\u001b[0m\n\u001b[0m\u001b[1;32m     18\u001b[0m     \u001b[0;31m# Choose the parameters to watch and iterations:\u001b[0m\u001b[0;34m\u001b[0m\u001b[0;34m\u001b[0m\u001b[0m\n\u001b[1;32m     19\u001b[0m     \u001b[0msamples\u001b[0m \u001b[0;34m=\u001b[0m \u001b[0mmodel\u001b[0m\u001b[0;34m.\u001b[0m\u001b[0msample\u001b[0m\u001b[0;34m(\u001b[0m\u001b[0mtrials\u001b[0m\u001b[0;34m,\u001b[0m \u001b[0mvars\u001b[0m\u001b[0;34m=\u001b[0m\u001b[0mvarnames\u001b[0m\u001b[0;34m)\u001b[0m\u001b[0;34m\u001b[0m\u001b[0m\n",
      "\u001b[0;32m/Library/Frameworks/Python.framework/Versions/3.7/lib/python3.7/site-packages/pyjags/model.py\u001b[0m in \u001b[0;36m__init__\u001b[0;34m(self, code, data, init, chains, adapt, file, encoding, generate_data, progress_bar, refresh_seconds, threads, chains_per_thread)\u001b[0m\n\u001b[1;32m    282\u001b[0m         \u001b[0mself\u001b[0m\u001b[0;34m.\u001b[0m\u001b[0mconsole\u001b[0m\u001b[0;34m.\u001b[0m\u001b[0minitialize\u001b[0m\u001b[0;34m(\u001b[0m\u001b[0;34m)\u001b[0m\u001b[0;34m\u001b[0m\u001b[0m\n\u001b[1;32m    283\u001b[0m         \u001b[0;32mif\u001b[0m \u001b[0madapt\u001b[0m\u001b[0;34m:\u001b[0m\u001b[0;34m\u001b[0m\u001b[0m\n\u001b[0;32m--> 284\u001b[0;31m             \u001b[0mself\u001b[0m\u001b[0;34m.\u001b[0m\u001b[0madapt\u001b[0m\u001b[0;34m(\u001b[0m\u001b[0madapt\u001b[0m\u001b[0;34m)\u001b[0m\u001b[0;34m\u001b[0m\u001b[0m\n\u001b[0m\u001b[1;32m    285\u001b[0m \u001b[0;34m\u001b[0m\u001b[0m\n\u001b[1;32m    286\u001b[0m     \u001b[0;32mdef\u001b[0m \u001b[0m_init_compile\u001b[0m\u001b[0;34m(\u001b[0m\u001b[0mself\u001b[0m\u001b[0;34m,\u001b[0m \u001b[0mdata\u001b[0m\u001b[0;34m,\u001b[0m \u001b[0mgenerate_data\u001b[0m\u001b[0;34m)\u001b[0m\u001b[0;34m:\u001b[0m\u001b[0;34m\u001b[0m\u001b[0m\n",
      "\u001b[0;32m/Library/Frameworks/Python.framework/Versions/3.7/lib/python3.7/site-packages/pyjags/model.py\u001b[0m in \u001b[0;36madapt\u001b[0;34m(self, iterations)\u001b[0m\n\u001b[1;32m    425\u001b[0m             \u001b[0;31m# Model does not require adaptation\u001b[0m\u001b[0;34m\u001b[0m\u001b[0;34m\u001b[0m\u001b[0m\n\u001b[1;32m    426\u001b[0m             \u001b[0;32mreturn\u001b[0m \u001b[0;32mTrue\u001b[0m\u001b[0;34m\u001b[0m\u001b[0m\n\u001b[0;32m--> 427\u001b[0;31m         \u001b[0mself\u001b[0m\u001b[0;34m.\u001b[0m\u001b[0m_update\u001b[0m\u001b[0;34m(\u001b[0m\u001b[0miterations\u001b[0m\u001b[0;34m,\u001b[0m \u001b[0;34m'adapting: '\u001b[0m\u001b[0;34m)\u001b[0m\u001b[0;34m\u001b[0m\u001b[0m\n\u001b[0m\u001b[1;32m    428\u001b[0m         \u001b[0;32mreturn\u001b[0m \u001b[0mself\u001b[0m\u001b[0;34m.\u001b[0m\u001b[0mconsole\u001b[0m\u001b[0;34m.\u001b[0m\u001b[0mcheckAdaptation\u001b[0m\u001b[0;34m(\u001b[0m\u001b[0;34m)\u001b[0m\u001b[0;34m\u001b[0m\u001b[0m\n\u001b[1;32m    429\u001b[0m \u001b[0;34m\u001b[0m\u001b[0m\n",
      "\u001b[0;32m/Library/Frameworks/Python.framework/Versions/3.7/lib/python3.7/site-packages/pyjags/model.py\u001b[0m in \u001b[0;36m_update\u001b[0;34m(self, iterations, header)\u001b[0m\n\u001b[1;32m    338\u001b[0m \u001b[0;34m\u001b[0m\u001b[0m\n\u001b[1;32m    339\u001b[0m         \u001b[0;32mwith\u001b[0m \u001b[0mself\u001b[0m\u001b[0;34m.\u001b[0m\u001b[0mprogress_bar\u001b[0m\u001b[0;34m(\u001b[0m\u001b[0mself\u001b[0m\u001b[0;34m.\u001b[0m\u001b[0mchains\u001b[0m \u001b[0;34m*\u001b[0m \u001b[0miterations\u001b[0m\u001b[0;34m,\u001b[0m \u001b[0mheader\u001b[0m\u001b[0;34m=\u001b[0m\u001b[0mheader\u001b[0m\u001b[0;34m)\u001b[0m \u001b[0;32mas\u001b[0m \u001b[0mpb\u001b[0m\u001b[0;34m:\u001b[0m\u001b[0;34m\u001b[0m\u001b[0m\n\u001b[0;32m--> 340\u001b[0;31m             \u001b[0mmethod\u001b[0m\u001b[0;34m(\u001b[0m\u001b[0mpb\u001b[0m\u001b[0;34m,\u001b[0m \u001b[0miterations\u001b[0m\u001b[0;34m)\u001b[0m\u001b[0;34m\u001b[0m\u001b[0m\n\u001b[0m\u001b[1;32m    341\u001b[0m \u001b[0;34m\u001b[0m\u001b[0m\n\u001b[1;32m    342\u001b[0m     \u001b[0;32mdef\u001b[0m \u001b[0m_update_sequential\u001b[0m\u001b[0;34m(\u001b[0m\u001b[0mself\u001b[0m\u001b[0;34m,\u001b[0m \u001b[0mprogress\u001b[0m\u001b[0;34m,\u001b[0m \u001b[0miterations\u001b[0m\u001b[0;34m)\u001b[0m\u001b[0;34m:\u001b[0m\u001b[0;34m\u001b[0m\u001b[0m\n",
      "\u001b[0;32m/Library/Frameworks/Python.framework/Versions/3.7/lib/python3.7/site-packages/pyjags/model.py\u001b[0m in \u001b[0;36m_update_sequential\u001b[0;34m(self, progress, iterations)\u001b[0m\n\u001b[1;32m    342\u001b[0m     \u001b[0;32mdef\u001b[0m \u001b[0m_update_sequential\u001b[0m\u001b[0;34m(\u001b[0m\u001b[0mself\u001b[0m\u001b[0;34m,\u001b[0m \u001b[0mprogress\u001b[0m\u001b[0;34m,\u001b[0m \u001b[0miterations\u001b[0m\u001b[0;34m)\u001b[0m\u001b[0;34m:\u001b[0m\u001b[0;34m\u001b[0m\u001b[0m\n\u001b[1;32m    343\u001b[0m         \u001b[0;32mfor\u001b[0m \u001b[0msteps\u001b[0m \u001b[0;32min\u001b[0m \u001b[0mconst_time_partition\u001b[0m\u001b[0;34m(\u001b[0m\u001b[0miterations\u001b[0m\u001b[0;34m,\u001b[0m \u001b[0mself\u001b[0m\u001b[0;34m.\u001b[0m\u001b[0mrefresh_seconds\u001b[0m\u001b[0;34m)\u001b[0m\u001b[0;34m:\u001b[0m\u001b[0;34m\u001b[0m\u001b[0m\n\u001b[0;32m--> 344\u001b[0;31m             \u001b[0mself\u001b[0m\u001b[0;34m.\u001b[0m\u001b[0mconsole\u001b[0m\u001b[0;34m.\u001b[0m\u001b[0mupdate\u001b[0m\u001b[0;34m(\u001b[0m\u001b[0msteps\u001b[0m\u001b[0;34m)\u001b[0m\u001b[0;34m\u001b[0m\u001b[0m\n\u001b[0m\u001b[1;32m    345\u001b[0m             \u001b[0mprogress\u001b[0m\u001b[0;34m.\u001b[0m\u001b[0mupdate\u001b[0m\u001b[0;34m(\u001b[0m\u001b[0mself\u001b[0m\u001b[0;34m.\u001b[0m\u001b[0mchains\u001b[0m \u001b[0;34m*\u001b[0m \u001b[0msteps\u001b[0m\u001b[0;34m)\u001b[0m\u001b[0;34m\u001b[0m\u001b[0m\n\u001b[1;32m    346\u001b[0m \u001b[0;34m\u001b[0m\u001b[0m\n",
      "\u001b[0;31mKeyboardInterrupt\u001b[0m: "
     ]
    }
   ],
   "source": [
    "eplot(models[\"fiss\"], y = y, n=n, it=40000, sslice=4000, debug=True)"
   ]
  },
  {
   "cell_type": "code",
   "execution_count": 6,
   "metadata": {
    "scrolled": true
   },
   "outputs": [
    {
     "name": "stdout",
     "output_type": "stream",
     "text": [
      "adapting: iterations 4000 of 4000, elapsed 0:00:03, remaining 0:00:00\n",
      "sampling: iterations 14712 of 160000, elapsed 0:00:09, remaining 0:01:30\n",
      "sampling: iterations 22768 of 160000, elapsed 0:00:15, remaining 0:01:28\n",
      "sampling: iterations 30600 of 160000, elapsed 0:00:25, remaining 0:01:47\n",
      "sampling: iterations 42948 of 160000, elapsed 0:00:33, remaining 0:01:30\n",
      "sampling: iterations 56156 of 160000, elapsed 0:00:42, remaining 0:01:18\n",
      "sampling: iterations 69632 of 160000, elapsed 0:00:50, remaining 0:01:05\n",
      "sampling: iterations 83532 of 160000, elapsed 0:00:58, remaining 0:00:53\n",
      "sampling: iterations 98016 of 160000, elapsed 0:01:06, remaining 0:00:42\n",
      "sampling: iterations 113064 of 160000, elapsed 0:01:13, remaining 0:00:30\n",
      "sampling: iterations 128584 of 160000, elapsed 0:01:21, remaining 0:00:20\n",
      "sampling: iterations 144492 of 160000, elapsed 0:01:29, remaining 0:00:10\n",
      "sampling: iterations 160000 of 160000, elapsed 0:01:39, remaining 0:00:00\n",
      "sampling: iterations 160000 of 160000, elapsed 0:01:39, remaining 0:00:00\n",
      "######################\n",
      "### mean: ---\n",
      "Log likelihood: -7.125496042848486\n",
      "aic: 152.25099208569696\n",
      "sic: 655.1769361672065\n",
      "chi-square : 0.0003633897799496515\n",
      "### median: ---\n",
      "Log likelihood: -7.125496042848486\n",
      "aic: 152.25099208569696\n",
      "sic: 655.1769361672065\n",
      "chi-square : 0.0009394518713014195\n",
      "### sampled: ---\n",
      "mse: 0.0017820337496947064\n",
      "######################\n",
      "y_pred mean = [[  65157.20085     65158.735625    65106.5003      65160.160625 ]\n",
      " [  23348.7636      23355.3625625   22906.3465125   23352.4417125]\n",
      " [ 110583.0127125  110588.62295    110237.86315    110585.8109625]\n",
      " [  22126.5021625   22136.565625    21500.8704875   22132.633875 ]\n",
      " [  20047.5186125   20047.2621375   20048.0827125   20047.30315  ]\n",
      " [   9464.8919375    9452.82555     10060.6787625    9458.5118125]\n",
      " [ 142021.3809625  142027.0074625  141782.9602125  142024.1349   ]\n",
      " [ 311268.64145    311270.224325   311096.392275   311270.7207375]\n",
      " [ 227437.0121     227441.1532625  227261.523925   227435.680475 ]\n",
      " [ 259593.046775   259593.9836     259698.2546875  259592.6603875]\n",
      " [ 171822.227275   171824.5106375  171807.632325   171826.05455  ]\n",
      " [ 190421.0922     190425.0382125  190381.143825   190422.1981875]\n",
      " [ 301577.8859375  301579.945425   301508.380975   301577.0432   ]\n",
      " [ 112986.2798     112987.4920875  112886.374975   112987.9598375]\n",
      " [  65027.707275    65028.4053125   65057.71895     65027.4046625]\n",
      " [  79251.77445     79254.0401125   79157.4979      79251.8489625]\n",
      " [ 119946.5429     119948.355925   119761.69525    119948.634225 ]\n",
      " [ 172206.1263375  172208.2202375  172112.0514125  172207.1028375]\n",
      " [  42868.6830125   42867.450725    42894.2304625   42867.882675 ]\n",
      " [  17599.1262625   17600.5470375   17521.7724625   17599.9329125]\n",
      " [  16909.1729875   16908.05425     16967.5947375   16908.4920125]\n",
      " [  25895.304825    25895.68685     25987.3544875   25896.426575 ]\n",
      " [  32036.1897875   32032.3848875   32133.8423375   32033.7169625]\n",
      " [ 562125.294975   562129.0455875  561905.3398375  562125.323175 ]\n",
      " [ 312944.830425   312947.1093375  312806.6867625  312942.79595  ]\n",
      " [ 140067.1489125  140067.1851     139890.341275   140065.813925 ]\n",
      " [ 276848.3519     276846.04625    276826.7820875  276846.4748625]\n",
      " [ 161923.6605875  161925.7964     161811.7630125  161923.14395  ]\n",
      " [ 157134.0924875  157134.291925   157070.658025   157132.199775 ]\n",
      " [  38141.2773125   38142.4331875   38027.587275    38140.816425 ]\n",
      " [ 144093.4211875  144096.2867125  144040.47625    144093.3795   ]\n",
      " [  97362.592375    97363.193025    97334.3063375   97362.7131125]\n",
      " [  84322.6207875   84325.477275    84165.9475625   84324.047875 ]\n",
      " [ 193013.5948     193015.71315    192833.7283375  193014.0527875]\n",
      " [  97534.1912375   97534.6121625   97530.7709125   97532.7750625]\n",
      " [ 156088.684875   156089.80855    155984.8392125  156087.3097   ]\n",
      " [ 115506.8453     115506.2389125  115602.6739125  115508.047475 ]\n",
      " [ 774144.0908875  774142.129975   774008.5897125  774141.4329125]\n",
      " [ 206844.98545    206844.72335    206750.861075   206845.279825 ]\n",
      " [ 147885.2377625  147881.92955    148039.5669375  147882.3496375]\n",
      " [  29142.46535     29139.2184      29127.47135     29141.360825 ]\n",
      " [  27597.1862375   27595.73765     27660.4688      27595.1180375]\n",
      " [  76652.97975     76655.7161      76507.0915625   76653.194975 ]\n",
      " [  79464.6560125   79462.0428875   79720.1762375   79464.0899875]\n",
      " [  89956.8145      89959.202875    89883.72175     89958.3577125]\n",
      " [  11240.93545     11239.3145875   11351.0460875   11239.8320125]\n",
      " [  22489.9922125   22478.263925    23199.838425    22483.69965  ]\n",
      " [1013537.868175  1013542.2975875 1013415.0307625 1013549.402225 ]\n",
      " [  44187.1171625   44190.9870875   43919.4788375   44188.517875 ]\n",
      " [ 120554.4472875  120555.8623     120537.0715125  120554.5121125]\n",
      " [ 252055.66895    252056.002975   252071.913075   252056.8601   ]\n",
      " [  36555.7323375   36557.6461875   36339.612125    36557.6556125]], 95% credible interval [ 16972. 554696.]\n",
      "t.beta mean = [-1.5064421493e+00 -1.6878150259e-04], 95% credible interval [-1.9580347089e+00  1.9032078399e-04]\n",
      "theta mean = [[0.0181946536 0.0181949139 0.0181872274 0.0181947124]\n",
      " [0.0174701898 0.0174732874 0.0173041364 0.0174711707]\n",
      " [0.0162581652 0.0162581318 0.0162321758 0.0162580504]\n",
      " [0.0164937482 0.0164982889 0.0162592516 0.0164970486]\n",
      " [0.0189848963 0.0189845318 0.0189846636 0.0189838434]\n",
      " [0.0154316068 0.0154220347 0.0159070992 0.0154255753]\n",
      " [0.0158809115 0.0158812006 0.0158679411 0.0158811878]\n",
      " [0.0157618034 0.0157618242 0.0157574941 0.0157617653]\n",
      " [0.0177823384 0.0177825093 0.0177753885 0.0177825012]\n",
      " [0.0202506232 0.0202504932 0.0202547206 0.0202504883]\n",
      " [0.0259436413 0.0259435932 0.0259424446 0.0259436679]\n",
      " [0.0191891421 0.0191891888 0.01918687   0.0191891409]\n",
      " [0.0259750928 0.0259749788 0.0259722705 0.0259751333]\n",
      " [0.0195672756 0.019567516  0.0195583026 0.0195671996]\n",
      " [0.0207882987 0.0207883439 0.0207930025 0.020788436 ]\n",
      " [0.0272552709 0.0272555235 0.0272397587 0.0272553791]\n",
      " [0.0217981758 0.0217983865 0.0217814369 0.0217986884]\n",
      " [0.0282993665 0.0282996628 0.0282912445 0.0282991099]\n",
      " [0.0225603106 0.0225598971 0.0225667981 0.0225595666]\n",
      " [0.0232100885 0.0232107911 0.0231595817 0.0232104573]\n",
      " [0.0196404232 0.0196405994 0.0196748338 0.0196401715]\n",
      " [0.02733553   0.0273358568 0.0273845683 0.0273360432]\n",
      " [0.0474335863 0.0474310049 0.0475067338 0.0474329203]\n",
      " [0.0275201981 0.0275202659 0.0275151187 0.0275202895]\n",
      " [0.0305163929 0.0305167832 0.030510078  0.0305166668]\n",
      " [0.0233174438 0.0233172821 0.0233024839 0.0233172996]\n",
      " [0.0274352361 0.0274347    0.0274341999 0.0274349583]\n",
      " [0.0328561388 0.0328565138 0.0328447807 0.0328563486]\n",
      " [0.018728049  0.0187283608 0.0187243454 0.0187278326]\n",
      " [0.0207583148 0.0207582473 0.0207277205 0.0207588245]\n",
      " [0.0296557619 0.029655771  0.0296500557 0.0296557903]\n",
      " [0.0219730429 0.0219729213 0.0219700509 0.0219727022]\n",
      " [0.0281996859 0.0282004768 0.0281739052 0.0281998464]\n",
      " [0.0291391281 0.0291396056 0.0291258489 0.0291397372]\n",
      " [0.0326958617 0.0326955275 0.0326949356 0.0326957698]\n",
      " [0.0333818737 0.0333821573 0.0333704331 0.0333818575]\n",
      " [0.0295044447 0.0295040235 0.0295166312 0.0295042615]\n",
      " [0.0280042695 0.0280040663 0.0280016672 0.0280039163]\n",
      " [0.0300895727 0.030089248  0.0300827691 0.0300890505]\n",
      " [0.0269154109 0.0269153836 0.0269300722 0.0269156691]\n",
      " [0.0174692732 0.0174684949 0.0174653224 0.0174689728]\n",
      " [0.0266169606 0.0266178421 0.0266478447 0.0266164058]\n",
      " [0.0263178583 0.0263180049 0.0262925246 0.0263181005]\n",
      " [0.0382170545 0.0382166842 0.0382787311 0.0382168262]\n",
      " [0.0297750585 0.0297759124 0.0297634973 0.0297760687]\n",
      " [0.019237001  0.0192347663 0.0193313826 0.0192355978]\n",
      " [0.0306294149 0.0306206811 0.0311100547 0.0306246712]\n",
      " [0.0259078173 0.0259078627 0.0259062037 0.0259079204]\n",
      " [0.0309287073 0.0309296132 0.0308352222 0.0309293128]\n",
      " [0.0297000003 0.0296996104 0.0296981462 0.029699989 ]\n",
      " [0.0348909317 0.0348910856 0.034891706  0.0348911145]\n",
      " [0.0106032997 0.0106035108 0.010571927  0.0106032408]], 95% credible interval [0.0154603876 0.0348629067]\n",
      "log.lik mean = [-7.1232505498], 95% credible interval [-7.262318086  -7.0054926315]\n"
     ]
    },
    {
     "data": {
      "image/png": "[encoded data removed]",
      "text/plain": [
       "<Figure size 648x216 with 3 Axes>"
      ]
     },
     "metadata": {
      "needs_background": "light"
     },
     "output_type": "display_data"
    },
    {
     "name": "stdout",
     "output_type": "stream",
     "text": [
      "chi-square : 0.0017820337496947064\n",
      "0.21596881116989644\n"
     ]
    },
    {
     "data": {
      "image/png": "[encoded data removed]",
      "text/plain": [
       "<Figure size 432x288 with 1 Axes>"
      ]
     },
     "metadata": {
      "needs_background": "light"
     },
     "output_type": "display_data"
    }
   ],
   "source": [
    "eplot(models[\"fffl\"], y = y, n=n, it=40000, sslice=4000, debug=True)"
   ]
  },
  {
   "cell_type": "markdown",
   "metadata": {},
   "source": [
    "## Model\n",
    "\n",
    "$C_{it}$ is the criminal population for a given state $i$ in year $t$.\n",
    "\n",
    "\n",
    "$ C_{it} \\propto Bin( d_{it} , n_{it})$\n",
    "\n",
    "$ d_{ij} = \\gamma_{it} + \\gamma_{i}$\n",
    "\n",
    "$ \\gamma_{it} = \\beta_0 + \\beta_1\\epsilon c_{it-1}$\n",
    "\n",
    "$ \\epsilon c_{eit-1} = C_{it-1} - E[C_{it-1}]$\n",
    "\n",
    "$\\gamma_{i} = d_0 + \\mu_i + \\alpha_{r(i)}$\n",
    "\n",
    "$Y_{it}$ is the property crime for a given state $i$ in year $t$\n",
    "\n",
    "$ Y_{it} \\propto Poisson( C_{it} p_{it})$\n",
    "\n",
    "$ p_{ij} = \\tau_{it} + \\tau_{i}$\n",
    "\n",
    "$ \\tau_{it} = \\beta'_0 + \\beta'_1\\epsilon y_{it-1}$\n",
    "\n",
    "$ \\epsilon y_{eit-1} = C_{it-1} - E[C_{it-1}]$\n",
    "\n",
    "$\\tau_{i} = p_0 + \\pi_i + \\alpha' _{r(i)}$\n",
    "\n",
    "## Prior\n"
   ]
  },
  {
   "cell_type": "code",
   "execution_count": 6,
   "metadata": {},
   "outputs": [
    {
     "name": "stdout",
     "output_type": "stream",
     "text": [
      "adapting: iterations 4000 of 4000, elapsed 0:00:03, remaining 0:00:00\n",
      "sampling: iterations 14152 of 40000, elapsed 0:00:09, remaining 0:00:16\n",
      "sampling: iterations 30740 of 40000, elapsed 0:00:18, remaining 0:00:05\n",
      "sampling: iterations 40000 of 40000, elapsed 0:00:24, remaining 0:00:00\n",
      "sampling: iterations 40000 of 40000, elapsed 0:00:24, remaining 0:00:00\n"
     ]
    }
   ],
   "source": [
    "model = models[\"fcfl\"]\n",
    "samples = sample(model[0], model[2], varnames=model[1], chains=4, trials=10000)"
   ]
  },
  {
   "cell_type": "code",
   "execution_count": 70,
   "metadata": {},
   "outputs": [
    {
     "data": {
      "image/png": "[encoded data removed]",
      "text/plain": [
       "<Figure size 432x288 with 1 Axes>"
      ]
     },
     "metadata": {
      "needs_background": "light"
     },
     "output_type": "display_data"
    }
   ],
   "source": [
    "\n",
    "plt.hist([np.array(samples['y_pred'][:,:,-4000,:].ravel()), \n",
    "        np.array(y.ravel())],bins=40,histtype='bar',density=True,label=(\"predicted\",\"true\"))\n",
    "\n",
    "plt.legend(loc=\"upper right\")\n",
    "plt.show()"
   ]
  },
  {
   "cell_type": "code",
   "execution_count": 7,
   "metadata": {},
   "outputs": [
    {
     "data": {
      "text/plain": [
       "967285391.3585012"
      ]
     },
     "execution_count": 7,
     "metadata": {},
     "output_type": "execute_result"
    }
   ],
   "source": [
    "1514563534.9773173 - 547278143.6188161"
   ]
  },
  {
   "cell_type": "code",
   "execution_count": null,
   "metadata": {},
   "outputs": [],
   "source": []
  }
 ],
 "metadata": {
  "kernelspec": {
   "display_name": "Python 3",
   "language": "python",
   "name": "python3"
  },
  "language_info": {
   "codemirror_mode": {
    "name": "ipython",
    "version": 3
   },
   "file_extension": ".py",
   "mimetype": "text/x-python",
   "name": "python",
   "nbconvert_exporter": "python",
   "pygments_lexer": "ipython3",
   "version": "3.7.0"
  }
 },
 "nbformat": 4,
 "nbformat_minor": 2
}
